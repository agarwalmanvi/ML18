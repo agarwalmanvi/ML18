{
 "cells": [
  {
   "cell_type": "code",
   "execution_count": 154,
   "metadata": {
    "collapsed": true
   },
   "outputs": [],
   "source": [
    "import pandas as pd\n",
    "import numpy as np\n",
    "import math"
   ]
  },
  {
   "cell_type": "code",
   "execution_count": null,
   "metadata": {
    "collapsed": true
   },
   "outputs": [],
   "source": [
    "def output_rates(input_data, output_data, attribute_name, privileged=None, unprivileged=None, favourable=None, unfavourable=None):\n",
    "    # make dataframes for both groups\n",
    "    input_priv = input_data.loc[input_data[attribute_name] == privileged]\n",
    "    output_priv = output_data.loc[output_data[attribute_name] == privileged]\n",
    "    privileged_df = pd.concat([input_priv, output_priv], axis=1)\n",
    "    \n",
    "    input_unpriv = input_data.loc[input_data[attribute_name] == unprivileged]\n",
    "    output_unpriv = output_data.loc[output_data[attribute_name] == unprivileged]\n",
    "    unprivileged_df = pd.concat([input_unpriv, output_unpriv], axis=1)\n",
    "    \n",
    "    tp = 0\n",
    "    fp = 0\n",
    "    tn = 0\n",
    "    fn = 0\n",
    "    \n",
    "    for i in range(privileged_df.shape[0]):\n",
    "        input_label = privileged_df.iloc[i,0]\n",
    "        output_label = privileged_df.iloc[i,0]\n",
    "        if input_label == output_label:\n",
    "            if input_label == unfavourable:\n",
    "                tn = tn + 1\n",
    "            else:\n",
    "                tp = tp + 1\n",
    "        else:\n",
    "            if input_label == favourable and output_label == unfavourable:\n",
    "                fn = fn + 1\n",
    "            else:\n",
    "                fp = fp + 1\n",
    "    \n",
    "    rates_privileged = [tp,fp,tn,fn]\n",
    "    \n",
    "    tp = 0\n",
    "    fp = 0\n",
    "    tn = 0\n",
    "    fn = 0\n",
    "    \n",
    "    for i in range(unprivileged_df.shape[0]):\n",
    "        input_label = unprivileged_df.iloc[i,0]\n",
    "        output_label = unprivileged_df.iloc[i,0]\n",
    "        if input_label == output_label:\n",
    "            if input_label == unfavourable:\n",
    "                tn = tn + 1\n",
    "            else:\n",
    "                tp = tp + 1\n",
    "        else:\n",
    "            if input_label == favourable and output_label == unfavourable:\n",
    "                fn = fn + 1\n",
    "            else:\n",
    "                fp = fp + 1\n",
    "                \n",
    "    rates_unprivileged = [tp,fp,tn,fn]           \n",
    "    \n",
    "    rates_list = [rates_privileged, rates_unprivileged]\n",
    "    \n",
    "    return rates_list"
   ]
  },
  {
   "cell_type": "code",
   "execution_count": null,
   "metadata": {
    "collapsed": true
   },
   "outputs": [],
   "source": [
    "# input privileged and unprivileged as integers\n",
    "# input favourable and unfavourable as integers\n",
    "# data as a pandas dataframe\n",
    "# attribute_name as string\n",
    "\n",
    "def statistical_parity_diff(data, attribute_name, privileged=None, unprivileged=None, favourable=None, unfavourable=None):\n",
    "    protected_counts = data[attribute_name].value_counts().to_dict()\n",
    "    favourable_outcomes_privileged_group = data.loc[data[attribute_name] == privileged]\n",
    "    ratio_privileged = favourable_outcomes_privileged_group.iloc[:,-1].value_counts().to_dict()\n",
    "    print(ratio_privileged)\n",
    "    if favourable in ratio_privileged.keys():\n",
    "        ratio_privileged = ratio_privileged[favourable]/favourable_outcomes_privileged_group.shape[0]\n",
    "    else:\n",
    "        ratio_privileged = 0\n",
    "    print(ratio_privileged)\n",
    "    favourable_outcomes_unprivileged_group = data.loc[data[attribute_name] == unprivileged]\n",
    "    ratio_unprivileged = favourable_outcomes_unprivileged_group.iloc[:,-1].value_counts().to_dict()\n",
    "    print(ratio_unprivileged)\n",
    "    if favourable in ratio_unprivileged.keys():\n",
    "        ratio_unprivileged = ratio_unprivileged[favourable]/favourable_outcomes_unprivileged_group.shape[0]\n",
    "    else:\n",
    "        ratio_unprivileged = 0\n",
    "    print(ratio_unprivileged)\n",
    "\n",
    "    fairness = ratio_privileged - ratio_unprivileged\n",
    "    \n",
    "    return fairness"
   ]
  },
  {
   "cell_type": "code",
   "execution_count": 156,
   "metadata": {
    "collapsed": true
   },
   "outputs": [],
   "source": [
    "# input privileged and unprivileged as integers\n",
    "# input favourable and unfavourable as integers\n",
    "# data as a pandas dataframe\n",
    "# attribute_name as string\n",
    "\n",
    "def disparate_impact(data, attribute_name, privileged=None, unprivileged=None, favourable=None, unfavourable=None):\n",
    "    protected_counts = data[attribute_name].value_counts().to_dict()\n",
    "    favourable_outcomes_privileged_group = data.loc[data[attribute_name] == privileged]\n",
    "    \n",
    "    favourable_outcomes_unprivileged_group = data.loc[data[attribute_name] == unprivileged]\n",
    "    ratio_unprivileged = favourable_outcomes_unprivileged_group.iloc[:,-1].value_counts().to_dict()\n",
    "    print(ratio_unprivileged)\n",
    "    if favourable in ratio_unprivileged.keys():\n",
    "        ratio_unprivileged = ratio_unprivileged[favourable]/favourable_outcomes_unprivileged_group.shape[0]\n",
    "    else:\n",
    "        ratio_unprivileged = 0\n",
    "        return 0\n",
    "    print(\"ratio_unpr: \",ratio_unprivileged)\n",
    "    \n",
    "    ratio_privileged = favourable_outcomes_privileged_group.iloc[:,-1].value_counts().to_dict()\n",
    "    print(ratio_privileged)\n",
    "    if favourable in ratio_privileged.keys():\n",
    "        ratio_privileged = ratio_privileged[favourable]/favourable_outcomes_privileged_group.shape[0]\n",
    "    else:\n",
    "        ratio_privileged = 0\n",
    "        return math.inf\n",
    "    print(\"ratio_priv: \",ratio_privileged)\n",
    "    \n",
    "    fairness = ratio_unprivileged/ratio_privileged\n",
    "    \n",
    "    return fairness"
   ]
  },
  {
   "cell_type": "code",
   "execution_count": null,
   "metadata": {
    "collapsed": true
   },
   "outputs": [],
   "source": [
    "def equal_opp_diff(input_data, output_data, attribute_name, privileged, unprivileged, favourable, unfavourable):\n",
    "    outcome_both = output_rates(input_data, output_data, attribute_name, privileged, unprivileged, favourable, unfavourable)\n",
    "    \n",
    "    # [tp, fp, tn, fn]\n",
    "    outcome_privileged = rates_both[0]\n",
    "    outcome_unprivileged = rates_both[1]\n",
    "    \n",
    "    # true positive rate = tp / (tp + fn)\n",
    "    tpr_privileged = outcome_privileged[0] / (outcome_privileged[0] + outcome_privileged[3])\n",
    "    tpr_unprivileged = outcome_unprivileged[0] / (outcome_unprivileged[0] + outcome_unprivileged[3])\n",
    "\n",
    "    fairness = tpr_unprivileged - tpr_privileged\n",
    "    \n",
    "    return fairness"
   ]
  },
  {
   "cell_type": "code",
   "execution_count": null,
   "metadata": {
    "collapsed": true
   },
   "outputs": [],
   "source": [
    "def avg_odds_diff(input_data, output_data, attribute_name, privileged, unprivileged, favourable, unfavourable):\n",
    "    outcome_both = output_rates(input_data, output_data, attribute_name, privileged, unprivileged, favourable, unfavourable)\n",
    "    \n",
    "    # [tp, fp, tn, fn]\n",
    "    outcome_privileged = rates_both[0]\n",
    "    outcome_unprivileged = rates_both[1]\n",
    "    \n",
    "    # true positive rate = tp / (tp + fn)\n",
    "    tpr_privileged = outcome_privileged[0] / (outcome_privileged[0] + outcome_privileged[3])\n",
    "    tpr_unprivileged = outcome_unprivileged[0] / (outcome_unprivileged[0] + outcome_unprivileged[3])\n",
    "\n",
    "    # false positive rate = fp / (fp + tn)\n",
    "    fpr_privileged = outcome_privileged[1] / (outcome_privileged[1] + outcome_privileged[2])\n",
    "    fpr_unprivileged = outcome_unprivileged[1] / (outcome_unprivileged[1] + outcome_unprivileged[2])\n",
    "    \n",
    "    fpr_diff = fpr_unprivileged - fpr_privileged\n",
    "    tpr_diff = tpr_unprivileged - tpr_unprivileged\n",
    "    \n",
    "    fairness = (fpr_diff + tpr_diff) * 0.5\n",
    "    \n",
    "    return fairness"
   ]
  },
  {
   "cell_type": "code",
   "execution_count": 157,
   "metadata": {
    "collapsed": true
   },
   "outputs": [],
   "source": [
    "def random_data():\n",
    "    return pd.DataFrame(np.random.randint(0,2,size=(10, 5)), columns=list('ABCPO'))"
   ]
  },
  {
   "cell_type": "code",
   "execution_count": 161,
   "metadata": {},
   "outputs": [
    {
     "name": "stdout",
     "output_type": "stream",
     "text": [
      "{1: 3, 0: 1}\n",
      "ratio_unpr:  0.75\n",
      "{0: 4, 1: 2}\n",
      "ratio_priv:  0.3333333333333333\n",
      "{0: 5, 1: 2}\n",
      "ratio_unpr:  0.2857142857142857\n",
      "{1: 2, 0: 1}\n",
      "ratio_priv:  0.6666666666666666\n",
      "{0: 3}\n",
      "{1: 3}\n",
      "ratio_unpr:  1.0\n",
      "{0: 4, 1: 3}\n",
      "ratio_priv:  0.42857142857142855\n",
      "{1: 5, 0: 2}\n",
      "ratio_unpr:  0.7142857142857143\n",
      "{1: 2, 0: 1}\n",
      "ratio_priv:  0.6666666666666666\n",
      "{1: 3, 0: 2}\n",
      "ratio_unpr:  0.6\n",
      "{0: 3, 1: 2}\n",
      "ratio_priv:  0.4\n",
      "{1: 4, 0: 3}\n",
      "ratio_unpr:  0.5714285714285714\n",
      "{1: 2, 0: 1}\n",
      "ratio_priv:  0.6666666666666666\n",
      "{1: 3, 0: 2}\n",
      "ratio_unpr:  0.6\n",
      "{0: 3, 1: 2}\n",
      "ratio_priv:  0.4\n",
      "{0: 3, 1: 2}\n",
      "ratio_unpr:  0.4\n",
      "{0: 3, 1: 2}\n",
      "ratio_priv:  0.4\n",
      "{0: 4, 1: 3}\n",
      "ratio_unpr:  0.42857142857142855\n",
      "{1: 2, 0: 1}\n",
      "ratio_priv:  0.6666666666666666\n"
     ]
    }
   ],
   "source": [
    "for i in range(10):\n",
    "    D = random_data()\n",
    "    fairness = disparate_impact(D,'P',1,0,1,0)\n",
    "    if fairness > 100:\n",
    "        print(\"true\")\n",
    "        print(fairness)"
   ]
  },
  {
   "cell_type": "code",
   "execution_count": 106,
   "metadata": {},
   "outputs": [
    {
     "name": "stdout",
     "output_type": "stream",
     "text": [
      "{1: 3, 0: 2}\n",
      "0.6\n",
      "{1: 4, 0: 1}\n",
      "0.8\n"
     ]
    }
   ],
   "source": []
  },
  {
   "cell_type": "code",
   "execution_count": null,
   "metadata": {
    "collapsed": true
   },
   "outputs": [],
   "source": []
  }
 ],
 "metadata": {
  "kernelspec": {
   "display_name": "Python 3",
   "language": "python",
   "name": "python3"
  },
  "language_info": {
   "codemirror_mode": {
    "name": "ipython",
    "version": 3
   },
   "file_extension": ".py",
   "mimetype": "text/x-python",
   "name": "python",
   "nbconvert_exporter": "python",
   "pygments_lexer": "ipython3",
   "version": "3.6.3"
  }
 },
 "nbformat": 4,
 "nbformat_minor": 2
}
